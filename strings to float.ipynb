{
 "cells": [
  {
   "cell_type": "markdown",
   "id": "cda92a85",
   "metadata": {},
   "source": [
    "BUT: Convertir des variables strings en float"
   ]
  },
  {
   "cell_type": "code",
   "execution_count": 1,
   "id": "919aad12",
   "metadata": {},
   "outputs": [
    {
     "data": {
      "text/html": [
       "<div>\n",
       "<style scoped>\n",
       "    .dataframe tbody tr th:only-of-type {\n",
       "        vertical-align: middle;\n",
       "    }\n",
       "\n",
       "    .dataframe tbody tr th {\n",
       "        vertical-align: top;\n",
       "    }\n",
       "\n",
       "    .dataframe thead th {\n",
       "        text-align: right;\n",
       "    }\n",
       "</style>\n",
       "<table border=\"1\" class=\"dataframe\">\n",
       "  <thead>\n",
       "    <tr style=\"text-align: right;\">\n",
       "      <th></th>\n",
       "      <th>Date</th>\n",
       "      <th>Price</th>\n",
       "      <th>Open</th>\n",
       "      <th>High</th>\n",
       "      <th>Low</th>\n",
       "      <th>Vol.</th>\n",
       "      <th>Change %</th>\n",
       "    </tr>\n",
       "  </thead>\n",
       "  <tbody>\n",
       "    <tr>\n",
       "      <th>0</th>\n",
       "      <td>01/01/2025</td>\n",
       "      <td>3,360.14</td>\n",
       "      <td>3,337.80</td>\n",
       "      <td>3,373.11</td>\n",
       "      <td>3,315.98</td>\n",
       "      <td>209.22K</td>\n",
       "      <td>0.67%</td>\n",
       "    </tr>\n",
       "    <tr>\n",
       "      <th>1</th>\n",
       "      <td>12/31/2024</td>\n",
       "      <td>3,337.80</td>\n",
       "      <td>3,361.99</td>\n",
       "      <td>3,449.27</td>\n",
       "      <td>3,317.39</td>\n",
       "      <td>333.44K</td>\n",
       "      <td>-0.72%</td>\n",
       "    </tr>\n",
       "    <tr>\n",
       "      <th>2</th>\n",
       "      <td>12/30/2024</td>\n",
       "      <td>3,361.99</td>\n",
       "      <td>3,355.97</td>\n",
       "      <td>3,436.83</td>\n",
       "      <td>3,306.11</td>\n",
       "      <td>494.99K</td>\n",
       "      <td>0.18%</td>\n",
       "    </tr>\n",
       "    <tr>\n",
       "      <th>3</th>\n",
       "      <td>12/29/2024</td>\n",
       "      <td>3,355.97</td>\n",
       "      <td>3,404.53</td>\n",
       "      <td>3,412.32</td>\n",
       "      <td>3,327.45</td>\n",
       "      <td>176.43K</td>\n",
       "      <td>-1.43%</td>\n",
       "    </tr>\n",
       "    <tr>\n",
       "      <th>4</th>\n",
       "      <td>12/28/2024</td>\n",
       "      <td>3,404.59</td>\n",
       "      <td>3,334.23</td>\n",
       "      <td>3,427.65</td>\n",
       "      <td>3,322.42</td>\n",
       "      <td>196.38K</td>\n",
       "      <td>2.11%</td>\n",
       "    </tr>\n",
       "  </tbody>\n",
       "</table>\n",
       "</div>"
      ],
      "text/plain": [
       "         Date     Price      Open      High       Low     Vol. Change %\n",
       "0  01/01/2025  3,360.14  3,337.80  3,373.11  3,315.98  209.22K    0.67%\n",
       "1  12/31/2024  3,337.80  3,361.99  3,449.27  3,317.39  333.44K   -0.72%\n",
       "2  12/30/2024  3,361.99  3,355.97  3,436.83  3,306.11  494.99K    0.18%\n",
       "3  12/29/2024  3,355.97  3,404.53  3,412.32  3,327.45  176.43K   -1.43%\n",
       "4  12/28/2024  3,404.59  3,334.23  3,427.65  3,322.42  196.38K    2.11%"
      ]
     },
     "execution_count": 1,
     "metadata": {},
     "output_type": "execute_result"
    }
   ],
   "source": [
    "#étape 1 :importer le dataset\n",
    "import numpy as np\n",
    "import pandas as pd\n",
    "data=pd.read_csv('Ethereum Historical Data.csv')\n",
    "data.head()\n",
    "#observation: on constate que nos données 'volume'sont sous forme de chaîne de caractère(209.22K)"
   ]
  },
  {
   "cell_type": "code",
   "execution_count": 2,
   "id": "8a0a2102",
   "metadata": {},
   "outputs": [],
   "source": [
    "#étape 2:créer une fonction qui va permetrre de convertir tous les nb de la colonne souhaitée\n",
    "def convert_volume_to_float(volume_str):\n",
    "    if isinstance(volume_str,(int,float)):\n",
    "        return volume_str\n",
    "    Volume_str=str(volume_str).upper().strip() #mettre en majuscule et enlever les espaces\n",
    "    if 'M' in volume_str:\n",
    "        return float(Volume_str.replace('M',''))*1000000#millions\n",
    "    elif'K' in volume_str:\n",
    "        return float(volume_str.replace('K',''))*1000#milliers\n",
    "    elif'B' in volume_str:\n",
    "        return float(volume_str.replace('B',''))*1000000000#données en milliards\n",
    "    else:\n",
    "        try:#converti driectement si aucun suffixe n'est touvé directement\n",
    "            return float(volume_str)\n",
    "        except ValueError:\n",
    "            return np.nan #remplace les valeurs vides par Nan"
   ]
  },
  {
   "cell_type": "markdown",
   "id": "1a8d1efa",
   "metadata": {},
   "source": [
    "EXPLICATION CLAIRE ET SIMPLE DE LA FONCTION:\n",
    "    Notre fonction prend en compte un seul argument noté:'volume_str' qui est la donnée à convertir \n",
    "    la condition ''if isinstance(volume_str, (int, float)): '' vérifie si la donnée est un entier (int)ou un nombre à virgule(float) si c'est le cas elle n'a pas besoin d'être convertie\n",
    "    le fonction' return volume_str' retourne les données telles qu'elles sont. Celà permet à la fonction de continuer à fonctionner même si elle reçoit des données déjà numériques des 'Nan'\n",
    "    la fonction'volume_str = str(volume_str).upper().strip()' :\n",
    "        Str(volume_str) s'assure que la donnée est bien une chaîne de caractère même si c'était 'None'(pas le cas) elle devient ''None''(convertie en cc)\n",
    "        upper():converti toutes les lettres en majuscules :'2k' devient '2K' pour que la vérification des suffixes soit plus facile\n",
    "        strip():supprime les espaces inutiles à la fin et au début des caractères\n",
    "    if 'M' in volume_str: vérifie la présence du suffixe 'M' dans la chaîne de caractère\n",
    "    return float(volume_str.replace('M', '')) * 1_000_000: convertit les données en millions\n",
    "    .replace('M', '') : supprime la lettre'M'('1.8M' devient '1.8')\n",
    "    float(...) convertit la chaîne néttoyé en nombre à virgule('1.8' devient 1.8)\n",
    "    *1000000 :multiplie le nombre convertit par mille\n",
    "    elif 'K' in volume_str: sinon vérifie la présence du suffixe 'k'.(cette cdt s'execute si m n'était pas présent)\n",
    "    eturn float(volume_str.replace('K', '')) * 1_000: cconvertit alors les chaînes de caractère en milliers (même chose qu'au premier cas)\n",
    "    elif 'B' in volume_str: sinon vérifie également la présence du suffixe 'B' et la multiplie par 1 milliard\n",
    "    else: dans le cas contraire(si aucune des 3cdts précédentes n'obéit pas au code)\n",
    "    try: fonction qui nous permet d'executer le code suivant au cas contraire\n",
    "    return float(volume_str): convertit directement la chaîne néttoyé ou  arrangé en float(pour les données petites comme :'5,9' ;'10,5'...\n",
    "    except ValueError: au cas où la nouvelle convertion échoue \n",
    "    return np.nan:nretourne Nan la fonction nous renvera la valeur:'NaN' pour signifier justement qu'il manque des données dans le dataset"
   ]
  },
  {
   "cell_type": "code",
   "execution_count": 3,
   "id": "d14b2ead",
   "metadata": {},
   "outputs": [],
   "source": [
    "#appliquons la conversion: \n",
    "data['Vol.']=data['Vol.'].apply(convert_volume_to_float)"
   ]
  },
  {
   "cell_type": "markdown",
   "id": "1cc2fc6a",
   "metadata": {},
   "source": [
    "explication de la dernière ligne de code:\n",
    " les données de  la colonne 'Vol.' sont sélectionnées\n",
    " la methode 'apply'(): permet de selectionner la colonne et d'appliquer un ordre donc de convertir les données une par une dans la colonne\n",
    " 'convert_volume_to_float' est la fonction de conversion qui transforme les chaînes de caractère en chiffre(float)"
   ]
  },
  {
   "cell_type": "code",
   "execution_count": null,
   "id": "63920f72",
   "metadata": {},
   "outputs": [],
   "source": []
  }
 ],
 "metadata": {
  "kernelspec": {
   "display_name": "Python 3 (ipykernel)",
   "language": "python",
   "name": "python3"
  },
  "language_info": {
   "codemirror_mode": {
    "name": "ipython",
    "version": 3
   },
   "file_extension": ".py",
   "mimetype": "text/x-python",
   "name": "python",
   "nbconvert_exporter": "python",
   "pygments_lexer": "ipython3",
   "version": "3.11.2"
  }
 },
 "nbformat": 4,
 "nbformat_minor": 5
}
