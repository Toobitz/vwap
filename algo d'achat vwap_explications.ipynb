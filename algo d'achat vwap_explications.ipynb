{
 "cells": [
  {
   "cell_type": "code",
   "execution_count": 1,
   "id": "db2d8d1f",
   "metadata": {},
   "outputs": [],
   "source": [
    "budget=10000000\n",
    "positions=[]"
   ]
  },
  {
   "cell_type": "markdown",
   "id": "8648d998",
   "metadata": {},
   "source": [
    "pour toutes opérations sur les marchés il est important d'avoir un budget\n",
    "ici la variable position est une variable qui va stocker les caractéristiques des positions qu'on va effectuer('temps, prix ...')"
   ]
  },
  {
   "cell_type": "markdown",
   "id": "869c887d",
   "metadata": {},
   "source": [
    "\n",
    "ici on considère qu'on a importé un dataset ensuite on traite les données correctement et on a calulé la moyenne pondérée de la valeur de l'actif par rapport au volume. Il est donc question ici de rentrer en position à un meilleur prix.\n",
    "\n",
    "le code ci-bas aura une erreur car le dataset utilisé ne sera pas le même que le vôtre. ici on se concentre uniquement sur la fonction d'achat proprement dit.\n",
    "\n"
   ]
  },
  {
   "cell_type": "code",
   "execution_count": null,
   "id": "22c0b5f1",
   "metadata": {},
   "outputs": [],
   "source": []
  },
  {
   "cell_type": "markdown",
   "id": "55bab7c9",
   "metadata": {},
   "source": [
    "explication du code: \n",
    "    for i, row data.iterrows(): itération sur le dataframe ligne par ligne. 'i' correspond à l'index de chaque ligne .\n",
    "    \n",
    "||rows c'est pour spécifier les lignes.\n",
    "\n",
    "||price = row['Price'] pour lecture du prix courant.\n",
    "\n",
    "|| vwap = row[\"vwap\"] lecture du vwap courant .\n",
    "\n",
    "||if price < vwap and budget > 0:  condition d’achat simple : si le prix est strictement inférieur au VWAP et qu’il reste de l’argent.\n",
    "\n",
    "||qty = budget // price  calcule la quantité entière possible d’acheter avec le budget restant (opérateur // = division entière)||\n",
    "    \n",
    "if qty > 0:  s’assure qu’on peut effectivement acheter au moins 1 unité.\n",
    "\n",
    "||cost = qty * price coût total de l’achat.||budget -= cost on retire le coût(l'achat') du budget disponible.\n",
    "\n",
    "||positions.append((i, price, qty, cost))  on enregistre l’ordre dans la liste positions comme un tuple (timestamp, price, quantité, coût)"
   ]
  },
  {
   "cell_type": "code",
   "execution_count": null,
   "id": "4a16029f",
   "metadata": {},
   "outputs": [],
   "source": [
    "#fonction d'achat\n",
    "for i, row in data.iterrows():\n",
    "    Price=row['Price']\n",
    "    vwap=row['Vwap']\n",
    "    \n",
    "    if Price< vwap and budget> 0:\n",
    "        qty=budget// Price #nbr d'unité achetées\n",
    "        if qty>0: #on s'assure qu'on peut bien acheter au moins une unité de l'actif\n",
    "            cost=qty*Price\n",
    "            budget-= cost#dans ce cas on procède à l'achat et le budget diminue\n",
    "            positions.append((i,Price,qty,cost))\n",
    "print('==Ordres Exécutés==')\n",
    "for P in positions:\n",
    "    print(f'{P[0]}| achat de {P[2]} unités à {P[1]} (coût={P[3]}) ')\n",
    "print(f\"\\nBudget restant:{budget}\")"
   ]
  }
 ],
 "metadata": {
  "kernelspec": {
   "display_name": "Python 3 (ipykernel)",
   "language": "python",
   "name": "python3"
  },
  "language_info": {
   "codemirror_mode": {
    "name": "ipython",
    "version": 3
   },
   "file_extension": ".py",
   "mimetype": "text/x-python",
   "name": "python",
   "nbconvert_exporter": "python",
   "pygments_lexer": "ipython3",
   "version": "3.11.2"
  }
 },
 "nbformat": 4,
 "nbformat_minor": 5
}
