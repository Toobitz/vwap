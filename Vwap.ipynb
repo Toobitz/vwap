{
 "cells": [
  {
   "cell_type": "markdown",
   "id": "f15183b8",
   "metadata": {},
   "source": [
    "CREATION D'UN WVAP "
   ]
  },
  {
   "cell_type": "markdown",
   "id": "6a8df1b1",
   "metadata": {},
   "source": [
    "Situation: Généralement lorqu'on est une grande institution qui opère des opérations financères et qu'on souhaite rentrer en position longue sur un actif il est important de bien se positioner à l'entrée"
   ]
  },
  {
   "cell_type": "markdown",
   "id": "8f230215",
   "metadata": {},
   "source": [
    "   PROBLEME:  la plus part des acteurs font face à un dilemne qui consite à se positionner au bon moment et à un prix raisonnable"
   ]
  },
  {
   "cell_type": "markdown",
   "id": "11a51f28",
   "metadata": {},
   "source": [
    "SOLUTION:. Dès lors pour réduire le risque et rentrer à un prix raisonnable il est important d'utiliser un wvap qui va nous permettre d'avoir un bref aperçu de la tendance de marché le but étant d'eviter de rentrer en période de surévaluation de l'actif."
   ]
  },
  {
   "cell_type": "code",
   "execution_count": null,
   "id": "6172b343",
   "metadata": {},
   "outputs": [],
   "source": []
  },
  {
   "cell_type": "code",
   "execution_count": null,
   "id": "3d3b4a4e",
   "metadata": {},
   "outputs": [],
   "source": []
  },
  {
   "cell_type": "code",
   "execution_count": null,
   "id": "f1863206",
   "metadata": {},
   "outputs": [],
   "source": []
  },
  {
   "cell_type": "code",
   "execution_count": 38,
   "id": "c698d001",
   "metadata": {},
   "outputs": [],
   "source": [
    "import numpy as np\n",
    "import pandas as pd\n",
    "import matplotlib.pyplot as plt"
   ]
  },
  {
   "cell_type": "code",
   "execution_count": 52,
   "id": "656eeccb",
   "metadata": {},
   "outputs": [
    {
     "data": {
      "text/html": [
       "<div>\n",
       "<style scoped>\n",
       "    .dataframe tbody tr th:only-of-type {\n",
       "        vertical-align: middle;\n",
       "    }\n",
       "\n",
       "    .dataframe tbody tr th {\n",
       "        vertical-align: top;\n",
       "    }\n",
       "\n",
       "    .dataframe thead th {\n",
       "        text-align: right;\n",
       "    }\n",
       "</style>\n",
       "<table border=\"1\" class=\"dataframe\">\n",
       "  <thead>\n",
       "    <tr style=\"text-align: right;\">\n",
       "      <th></th>\n",
       "      <th>Date</th>\n",
       "      <th>Price</th>\n",
       "      <th>Open</th>\n",
       "      <th>High</th>\n",
       "      <th>Low</th>\n",
       "      <th>Vol.</th>\n",
       "      <th>Change %</th>\n",
       "    </tr>\n",
       "  </thead>\n",
       "  <tbody>\n",
       "    <tr>\n",
       "      <th>0</th>\n",
       "      <td>01/01/2025</td>\n",
       "      <td>3,360.14</td>\n",
       "      <td>3,337.80</td>\n",
       "      <td>3,373.11</td>\n",
       "      <td>3,315.98</td>\n",
       "      <td>209.22K</td>\n",
       "      <td>0.67%</td>\n",
       "    </tr>\n",
       "    <tr>\n",
       "      <th>1</th>\n",
       "      <td>12/31/2024</td>\n",
       "      <td>3,337.80</td>\n",
       "      <td>3,361.99</td>\n",
       "      <td>3,449.27</td>\n",
       "      <td>3,317.39</td>\n",
       "      <td>333.44K</td>\n",
       "      <td>-0.72%</td>\n",
       "    </tr>\n",
       "    <tr>\n",
       "      <th>2</th>\n",
       "      <td>12/30/2024</td>\n",
       "      <td>3,361.99</td>\n",
       "      <td>3,355.97</td>\n",
       "      <td>3,436.83</td>\n",
       "      <td>3,306.11</td>\n",
       "      <td>494.99K</td>\n",
       "      <td>0.18%</td>\n",
       "    </tr>\n",
       "    <tr>\n",
       "      <th>3</th>\n",
       "      <td>12/29/2024</td>\n",
       "      <td>3,355.97</td>\n",
       "      <td>3,404.53</td>\n",
       "      <td>3,412.32</td>\n",
       "      <td>3,327.45</td>\n",
       "      <td>176.43K</td>\n",
       "      <td>-1.43%</td>\n",
       "    </tr>\n",
       "    <tr>\n",
       "      <th>4</th>\n",
       "      <td>12/28/2024</td>\n",
       "      <td>3,404.59</td>\n",
       "      <td>3,334.23</td>\n",
       "      <td>3,427.65</td>\n",
       "      <td>3,322.42</td>\n",
       "      <td>196.38K</td>\n",
       "      <td>2.11%</td>\n",
       "    </tr>\n",
       "  </tbody>\n",
       "</table>\n",
       "</div>"
      ],
      "text/plain": [
       "         Date     Price      Open      High       Low     Vol. Change %\n",
       "0  01/01/2025  3,360.14  3,337.80  3,373.11  3,315.98  209.22K    0.67%\n",
       "1  12/31/2024  3,337.80  3,361.99  3,449.27  3,317.39  333.44K   -0.72%\n",
       "2  12/30/2024  3,361.99  3,355.97  3,436.83  3,306.11  494.99K    0.18%\n",
       "3  12/29/2024  3,355.97  3,404.53  3,412.32  3,327.45  176.43K   -1.43%\n",
       "4  12/28/2024  3,404.59  3,334.23  3,427.65  3,322.42  196.38K    2.11%"
      ]
     },
     "execution_count": 52,
     "metadata": {},
     "output_type": "execute_result"
    }
   ],
   "source": [
    "data=pd.read_csv('Ethereum Historical Data.csv')\n",
    "data.head()"
   ]
  },
  {
   "cell_type": "code",
   "execution_count": null,
   "id": "5227b63f",
   "metadata": {},
   "outputs": [],
   "source": []
  },
  {
   "cell_type": "code",
   "execution_count": 53,
   "id": "ad5030ac",
   "metadata": {},
   "outputs": [],
   "source": [
    "del data['High']\n",
    "del data['Low']\n",
    "del data['Change %']\n",
    "del data['Open']"
   ]
  },
  {
   "cell_type": "code",
   "execution_count": 54,
   "id": "0fa650f9",
   "metadata": {},
   "outputs": [
    {
     "data": {
      "text/html": [
       "<div>\n",
       "<style scoped>\n",
       "    .dataframe tbody tr th:only-of-type {\n",
       "        vertical-align: middle;\n",
       "    }\n",
       "\n",
       "    .dataframe tbody tr th {\n",
       "        vertical-align: top;\n",
       "    }\n",
       "\n",
       "    .dataframe thead th {\n",
       "        text-align: right;\n",
       "    }\n",
       "</style>\n",
       "<table border=\"1\" class=\"dataframe\">\n",
       "  <thead>\n",
       "    <tr style=\"text-align: right;\">\n",
       "      <th></th>\n",
       "      <th>Date</th>\n",
       "      <th>Price</th>\n",
       "      <th>Vol.</th>\n",
       "    </tr>\n",
       "  </thead>\n",
       "  <tbody>\n",
       "    <tr>\n",
       "      <th>0</th>\n",
       "      <td>01/01/2025</td>\n",
       "      <td>3,360.14</td>\n",
       "      <td>209.22K</td>\n",
       "    </tr>\n",
       "    <tr>\n",
       "      <th>1</th>\n",
       "      <td>12/31/2024</td>\n",
       "      <td>3,337.80</td>\n",
       "      <td>333.44K</td>\n",
       "    </tr>\n",
       "    <tr>\n",
       "      <th>2</th>\n",
       "      <td>12/30/2024</td>\n",
       "      <td>3,361.99</td>\n",
       "      <td>494.99K</td>\n",
       "    </tr>\n",
       "    <tr>\n",
       "      <th>3</th>\n",
       "      <td>12/29/2024</td>\n",
       "      <td>3,355.97</td>\n",
       "      <td>176.43K</td>\n",
       "    </tr>\n",
       "    <tr>\n",
       "      <th>4</th>\n",
       "      <td>12/28/2024</td>\n",
       "      <td>3,404.59</td>\n",
       "      <td>196.38K</td>\n",
       "    </tr>\n",
       "  </tbody>\n",
       "</table>\n",
       "</div>"
      ],
      "text/plain": [
       "         Date     Price     Vol.\n",
       "0  01/01/2025  3,360.14  209.22K\n",
       "1  12/31/2024  3,337.80  333.44K\n",
       "2  12/30/2024  3,361.99  494.99K\n",
       "3  12/29/2024  3,355.97  176.43K\n",
       "4  12/28/2024  3,404.59  196.38K"
      ]
     },
     "execution_count": 54,
     "metadata": {},
     "output_type": "execute_result"
    }
   ],
   "source": [
    "data.head()"
   ]
  },
  {
   "cell_type": "code",
   "execution_count": null,
   "id": "ede8de7b",
   "metadata": {},
   "outputs": [],
   "source": []
  },
  {
   "cell_type": "code",
   "execution_count": 55,
   "id": "5d70e979",
   "metadata": {},
   "outputs": [],
   "source": [
    "#convertir nos données volume en 'float'"
   ]
  },
  {
   "cell_type": "code",
   "execution_count": 56,
   "id": "1cdbd547",
   "metadata": {},
   "outputs": [],
   "source": [
    "def convert_volume_to_float(volume_str):\n",
    "    if isinstance(volume_str,(int,float)):\n",
    "        return volume_str\n",
    "    Volume_str=str(volume_str).upper().strip() #mettre en majuscule et enlever les espaces\n",
    "    if 'M' in volume_str:\n",
    "        return float(Volume_str.replace('M',''))*1000000#millions\n",
    "    elif'K' in volume_str:\n",
    "        return float(volume_str.replace('K',''))*1000#milliers\n",
    "    elif'B' in volume_str:\n",
    "        return float(volume_str.replace('B',''))*1000000000#données en milliards\n",
    "    else:\n",
    "        try:#converti driectement si aucun suffixe n'est touvé directement\n",
    "            return float(volume_str)\n",
    "        except ValueError:\n",
    "            return np.nan #remplace les valeurs vides par Nan"
   ]
  },
  {
   "cell_type": "code",
   "execution_count": 57,
   "id": "35030362",
   "metadata": {},
   "outputs": [],
   "source": [
    "#appliquons la conversion \n",
    "data['Vol.']=data['Vol.'].apply(convert_volume_to_float)"
   ]
  },
  {
   "cell_type": "code",
   "execution_count": 58,
   "id": "60880f5c",
   "metadata": {},
   "outputs": [
    {
     "name": "stdout",
     "output_type": "stream",
     "text": [
      "float64\n"
     ]
    }
   ],
   "source": [
    "print(data['Vol.'].dtype)"
   ]
  },
  {
   "cell_type": "code",
   "execution_count": 60,
   "id": "361d534e",
   "metadata": {},
   "outputs": [],
   "source": [
    "#conversion de la colonne Price en entier\n",
    "data['Price']=data['Price'].str.replace(',','.',regex=True)\n",
    "data['Price']=data['Price'].str.replace('.','',regex=False)\n",
    "data['Price']=data['Price'].astype(float)\n",
    "#regex=false signifie que l'argument est traité comme un caractère littéral et non comme une expression régulière"
   ]
  },
  {
   "cell_type": "code",
   "execution_count": 61,
   "id": "5569ec1e",
   "metadata": {},
   "outputs": [
    {
     "name": "stdout",
     "output_type": "stream",
     "text": [
      "float64\n"
     ]
    }
   ],
   "source": [
    "print(data['Price'].dtype)"
   ]
  },
  {
   "cell_type": "code",
   "execution_count": 68,
   "id": "02774a91",
   "metadata": {},
   "outputs": [],
   "source": [
    "#calcul de vwap\n",
    "\n",
    "data['P*Q']=data['Price']*data['Vol.']\n",
    "data['cumul_P*Q']=data['P*Q'].cumsum()\n",
    "data['cumul_Vol.']=data['Vol.'].cumsum()\n",
    "data['Vwap']=data['cumul_P*Q']/data['cumul_Vol.']"
   ]
  },
  {
   "cell_type": "code",
   "execution_count": 69,
   "id": "f2eb64cd",
   "metadata": {},
   "outputs": [
    {
     "data": {
      "text/html": [
       "<div>\n",
       "<style scoped>\n",
       "    .dataframe tbody tr th:only-of-type {\n",
       "        vertical-align: middle;\n",
       "    }\n",
       "\n",
       "    .dataframe tbody tr th {\n",
       "        vertical-align: top;\n",
       "    }\n",
       "\n",
       "    .dataframe thead th {\n",
       "        text-align: right;\n",
       "    }\n",
       "</style>\n",
       "<table border=\"1\" class=\"dataframe\">\n",
       "  <thead>\n",
       "    <tr style=\"text-align: right;\">\n",
       "      <th></th>\n",
       "      <th>Date</th>\n",
       "      <th>Price</th>\n",
       "      <th>Vol.</th>\n",
       "      <th>P*Q</th>\n",
       "      <th>cumul_P*Q</th>\n",
       "      <th>cumul_Vol.</th>\n",
       "      <th>Vwap</th>\n",
       "    </tr>\n",
       "  </thead>\n",
       "  <tbody>\n",
       "    <tr>\n",
       "      <th>0</th>\n",
       "      <td>01/01/2025</td>\n",
       "      <td>336014.0</td>\n",
       "      <td>209220.0</td>\n",
       "      <td>7.030085e+10</td>\n",
       "      <td>7.030085e+10</td>\n",
       "      <td>209220.0</td>\n",
       "      <td>336014.000000</td>\n",
       "    </tr>\n",
       "    <tr>\n",
       "      <th>1</th>\n",
       "      <td>12/31/2024</td>\n",
       "      <td>333780.0</td>\n",
       "      <td>333440.0</td>\n",
       "      <td>1.112956e+11</td>\n",
       "      <td>1.815965e+11</td>\n",
       "      <td>542660.0</td>\n",
       "      <td>334641.308149</td>\n",
       "    </tr>\n",
       "    <tr>\n",
       "      <th>2</th>\n",
       "      <td>12/30/2024</td>\n",
       "      <td>336199.0</td>\n",
       "      <td>494990.0</td>\n",
       "      <td>1.664151e+11</td>\n",
       "      <td>3.480116e+11</td>\n",
       "      <td>1037650.0</td>\n",
       "      <td>335384.373623</td>\n",
       "    </tr>\n",
       "    <tr>\n",
       "      <th>3</th>\n",
       "      <td>12/29/2024</td>\n",
       "      <td>335597.0</td>\n",
       "      <td>176430.0</td>\n",
       "      <td>5.920938e+10</td>\n",
       "      <td>4.072210e+11</td>\n",
       "      <td>1214080.0</td>\n",
       "      <td>335415.272470</td>\n",
       "    </tr>\n",
       "    <tr>\n",
       "      <th>4</th>\n",
       "      <td>12/28/2024</td>\n",
       "      <td>340459.0</td>\n",
       "      <td>196380.0</td>\n",
       "      <td>6.685934e+10</td>\n",
       "      <td>4.740803e+11</td>\n",
       "      <td>1410460.0</td>\n",
       "      <td>336117.516569</td>\n",
       "    </tr>\n",
       "  </tbody>\n",
       "</table>\n",
       "</div>"
      ],
      "text/plain": [
       "         Date     Price      Vol.           P*Q     cumul_P*Q  cumul_Vol.  \\\n",
       "0  01/01/2025  336014.0  209220.0  7.030085e+10  7.030085e+10    209220.0   \n",
       "1  12/31/2024  333780.0  333440.0  1.112956e+11  1.815965e+11    542660.0   \n",
       "2  12/30/2024  336199.0  494990.0  1.664151e+11  3.480116e+11   1037650.0   \n",
       "3  12/29/2024  335597.0  176430.0  5.920938e+10  4.072210e+11   1214080.0   \n",
       "4  12/28/2024  340459.0  196380.0  6.685934e+10  4.740803e+11   1410460.0   \n",
       "\n",
       "            Vwap  \n",
       "0  336014.000000  \n",
       "1  334641.308149  \n",
       "2  335384.373623  \n",
       "3  335415.272470  \n",
       "4  336117.516569  "
      ]
     },
     "execution_count": 69,
     "metadata": {},
     "output_type": "execute_result"
    }
   ],
   "source": [
    "data.head()"
   ]
  },
  {
   "cell_type": "code",
   "execution_count": 78,
   "id": "ddc68962",
   "metadata": {},
   "outputs": [
    {
     "name": "stdout",
     "output_type": "stream",
     "text": [
      "==Ordres Exécutés==\n",
      "1| achat de 29.0 unités à 333780.0 (coût=9679620.0) \n",
      "42| achat de 1.0 unités à 306972.0 (coût=306972.0) \n",
      "1737| achat de 1.0 unités à 13286.0 (coût=13286.0) \n",
      "\n",
      "Budget restant:122.0\n"
     ]
    }
   ],
   "source": [
    "\n",
    "budget=10000000\n",
    "positions=[]\n",
    "#Fonction d'achat\n",
    "for i, row in data.iterrows():\n",
    "    Price=row['Price']\n",
    "    vwap=row['Vwap']\n",
    "    \n",
    "    if Price< vwap and budget> 0:\n",
    "        qty=budget// Price #nbr d'unité achetées\n",
    "        if qty>0: #on s'assure qu'on peut bien acheter au moins une unité de l'actif\n",
    "            cost=qty*Price\n",
    "            budget-= cost#dans ce cas on procède à l'achat et le budget diminue\n",
    "            positions.append((i,Price,qty,cost))\n",
    "print('==Ordres Exécutés==')\n",
    "for P in positions:\n",
    "    print(f'{P[0]}| achat de {P[2]} unités à {P[1]} (coût={P[3]}) ')\n",
    "print(f\"\\nBudget restant:{budget}\")"
   ]
  },
  {
   "cell_type": "code",
   "execution_count": null,
   "id": "ec40f306",
   "metadata": {},
   "outputs": [],
   "source": []
  },
  {
   "cell_type": "code",
   "execution_count": null,
   "id": "ff77912a",
   "metadata": {},
   "outputs": [],
   "source": []
  },
  {
   "cell_type": "code",
   "execution_count": null,
   "id": "efd39148",
   "metadata": {},
   "outputs": [],
   "source": []
  },
  {
   "cell_type": "code",
   "execution_count": null,
   "id": "9e37fcd1",
   "metadata": {},
   "outputs": [],
   "source": []
  }
 ],
 "metadata": {
  "kernelspec": {
   "display_name": "Python 3 (ipykernel)",
   "language": "python",
   "name": "python3"
  },
  "language_info": {
   "codemirror_mode": {
    "name": "ipython",
    "version": 3
   },
   "file_extension": ".py",
   "mimetype": "text/x-python",
   "name": "python",
   "nbconvert_exporter": "python",
   "pygments_lexer": "ipython3",
   "version": "3.11.2"
  }
 },
 "nbformat": 4,
 "nbformat_minor": 5
}
